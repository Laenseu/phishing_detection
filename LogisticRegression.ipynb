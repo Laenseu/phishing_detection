{
 "cells": [
  {
   "cell_type": "code",
   "execution_count": 18,
   "id": "a9f09be3",
   "metadata": {},
   "outputs": [],
   "source": [
    "import requests\n",
    "import pandas as pd\n",
    "from sklearn.model_selection import train_test_split\n",
    "import numpy as np\n",
    "import re\n",
    "import warnings\n",
    "from urllib.parse import urlparse\n",
    "from sklearn.linear_model import LogisticRegression\n",
    "from sklearn.model_selection import GridSearchCV\n",
    "from sklearn.metrics import accuracy_score, precision_score, recall_score, f1_score\n",
    "from sklearn.preprocessing import StandardScaler\n",
    "import ssl\n",
    "import socket"
   ]
  },
  {
   "cell_type": "code",
   "execution_count": 19,
   "id": "3b442c68",
   "metadata": {},
   "outputs": [],
   "source": [
    "df = pd.read_csv('dataset200.csv')\n",
    "df.drop_duplicates(inplace=True)\n",
    "df['label'] = df['label'].replace({'legitimate': 0, 'phishing': 1})\n"
   ]
  },
  {
   "cell_type": "code",
   "execution_count": 20,
   "id": "871ffb08",
   "metadata": {},
   "outputs": [],
   "source": [
    "x = df.drop('label', axis=1)\n",
    "y = df['label']\n"
   ]
  },
  {
   "cell_type": "code",
   "execution_count": 21,
   "id": "9eabccc6",
   "metadata": {},
   "outputs": [],
   "source": [
    "#x_train, x_test, y_train, y_test = train_test_split(x, y, test_size=0.2) #old train split\n",
    "x_train, x_test, y_train, y_test = train_test_split(x, y, test_size=0.2, stratify=y) #new train split "
   ]
  },
  {
   "cell_type": "code",
   "execution_count": 22,
   "id": "40d6cfc7",
   "metadata": {},
   "outputs": [
    {
     "data": {
      "text/html": [
       "<div>\n",
       "<style scoped>\n",
       "    .dataframe tbody tr th:only-of-type {\n",
       "        vertical-align: middle;\n",
       "    }\n",
       "\n",
       "    .dataframe tbody tr th {\n",
       "        vertical-align: top;\n",
       "    }\n",
       "\n",
       "    .dataframe thead th {\n",
       "        text-align: right;\n",
       "    }\n",
       "</style>\n",
       "<table border=\"1\" class=\"dataframe\">\n",
       "  <thead>\n",
       "    <tr style=\"text-align: right;\">\n",
       "      <th></th>\n",
       "      <th>url</th>\n",
       "      <th>label</th>\n",
       "    </tr>\n",
       "  </thead>\n",
       "  <tbody>\n",
       "    <tr>\n",
       "      <th>0</th>\n",
       "      <td>https://www.google.com/</td>\n",
       "      <td>0</td>\n",
       "    </tr>\n",
       "    <tr>\n",
       "      <th>1</th>\n",
       "      <td>https://www.wikipedia.org/</td>\n",
       "      <td>0</td>\n",
       "    </tr>\n",
       "    <tr>\n",
       "      <th>2</th>\n",
       "      <td>https://www.amazon.com/</td>\n",
       "      <td>0</td>\n",
       "    </tr>\n",
       "    <tr>\n",
       "      <th>3</th>\n",
       "      <td>https://www.youtube.com/</td>\n",
       "      <td>0</td>\n",
       "    </tr>\n",
       "    <tr>\n",
       "      <th>4</th>\n",
       "      <td>https://www.facebook.com/</td>\n",
       "      <td>0</td>\n",
       "    </tr>\n",
       "    <tr>\n",
       "      <th>...</th>\n",
       "      <td>...</td>\n",
       "      <td>...</td>\n",
       "    </tr>\n",
       "    <tr>\n",
       "      <th>90</th>\n",
       "      <td>http://eden.it-guys.net.nz/wp-content/language...</td>\n",
       "      <td>1</td>\n",
       "    </tr>\n",
       "    <tr>\n",
       "      <th>91</th>\n",
       "      <td>http://gruposdefreefire.000webhostapp.com/</td>\n",
       "      <td>1</td>\n",
       "    </tr>\n",
       "    <tr>\n",
       "      <th>92</th>\n",
       "      <td>https://onedrive.live.com/?authkey=%21AG7v3K%5...</td>\n",
       "      <td>1</td>\n",
       "    </tr>\n",
       "    <tr>\n",
       "      <th>93</th>\n",
       "      <td>http://ruasepicas.pt/paypal.com.update.account...</td>\n",
       "      <td>1</td>\n",
       "    </tr>\n",
       "    <tr>\n",
       "      <th>94</th>\n",
       "      <td>https://lansparpofa1987.blogspot.be</td>\n",
       "      <td>1</td>\n",
       "    </tr>\n",
       "  </tbody>\n",
       "</table>\n",
       "<p>95 rows × 2 columns</p>\n",
       "</div>"
      ],
      "text/plain": [
       "                                                  url  label\n",
       "0                             https://www.google.com/      0\n",
       "1                          https://www.wikipedia.org/      0\n",
       "2                             https://www.amazon.com/      0\n",
       "3                            https://www.youtube.com/      0\n",
       "4                           https://www.facebook.com/      0\n",
       "..                                                ...    ...\n",
       "90  http://eden.it-guys.net.nz/wp-content/language...      1\n",
       "91         http://gruposdefreefire.000webhostapp.com/      1\n",
       "92  https://onedrive.live.com/?authkey=%21AG7v3K%5...      1\n",
       "93  http://ruasepicas.pt/paypal.com.update.account...      1\n",
       "94                https://lansparpofa1987.blogspot.be      1\n",
       "\n",
       "[95 rows x 2 columns]"
      ]
     },
     "execution_count": 22,
     "metadata": {},
     "output_type": "execute_result"
    }
   ],
   "source": [
    "df"
   ]
  },
  {
   "cell_type": "code",
   "execution_count": 23,
   "id": "12cd133b",
   "metadata": {},
   "outputs": [],
   "source": [
    "\n",
    "def url_length(url):\n",
    "    return len(url)"
   ]
  },
  {
   "cell_type": "code",
   "execution_count": 24,
   "id": "40424ed1",
   "metadata": {},
   "outputs": [],
   "source": [
    "def suspicious_words(url):\n",
    "    suspicious = {'login', 'signin', 'verify', 'banking', 'account', 'secure', 'facbok', 'faceb0ok'}\n",
    "    url_words = re.findall('\\w+', urlparse(url).netloc + urlparse(url).path)\n",
    "    count = 0\n",
    "    for word in url_words:\n",
    "        if word.lower() in suspicious:\n",
    "            count += 1\n",
    "    return count"
   ]
  },
  {
   "cell_type": "code",
   "execution_count": 25,
   "id": "fad03fb6",
   "metadata": {},
   "outputs": [],
   "source": [
    "# Compile the regular expression pattern outside the function\n",
    "special_char_pattern = re.compile('[!@#$%^&*(),.?\":{}|<>]')\n",
    "\n",
    "# Use the compiled pattern inside the function\n",
    "def special_characters(url):\n",
    "    return len(special_char_pattern.findall(url))"
   ]
  },
  {
   "cell_type": "code",
   "execution_count": 26,
   "id": "34799243",
   "metadata": {},
   "outputs": [],
   "source": [
    "def has_valid_ssl(url):\n",
    "    try:\n",
    "        hostname = url.split('//')[1].split('/')[0]  # Extract the hostname from the URL\n",
    "        context = ssl.create_default_context()\n",
    "        with socket.create_connection((hostname, 443)) as sock:\n",
    "            with context.wrap_socket(sock, server_hostname=hostname) as sslsock:\n",
    "                return True  # SSL handshake succeeded, SSL is valid\n",
    "    except (ssl.SSLError, socket.error):\n",
    "        return False  # SSL handshake failed, SSL is invalid"
   ]
  },
  {
   "cell_type": "code",
   "execution_count": 27,
   "id": "4b63562e",
   "metadata": {},
   "outputs": [],
   "source": [
    "    \n",
    "def domain_length(url):\n",
    "    domain = urlparse(url).netloc\n",
    "    return len(domain)\n"
   ]
  },
  {
   "cell_type": "code",
   "execution_count": 28,
   "id": "d745b20b",
   "metadata": {},
   "outputs": [],
   "source": [
    "# Preprocess the training data\n",
    "x_train['url_length'] = x_train['url'].apply(url_length)\n",
    "x_train['suspicious_words'] = x_train['url'].apply(suspicious_words)\n",
    "x_train['special_characters'] = x_train['url'].apply(special_characters)\n",
    "x_train['has_valid_ssl'] = x_train['url'].apply(has_valid_ssl)\n",
    "x_train['domain_length'] = x_train['url'].apply(domain_length)\n"
   ]
  },
  {
   "cell_type": "code",
   "execution_count": 29,
   "id": "d188f81e",
   "metadata": {},
   "outputs": [
    {
     "data": {
      "text/html": [
       "<style>#sk-container-id-2 {color: black;background-color: white;}#sk-container-id-2 pre{padding: 0;}#sk-container-id-2 div.sk-toggleable {background-color: white;}#sk-container-id-2 label.sk-toggleable__label {cursor: pointer;display: block;width: 100%;margin-bottom: 0;padding: 0.3em;box-sizing: border-box;text-align: center;}#sk-container-id-2 label.sk-toggleable__label-arrow:before {content: \"▸\";float: left;margin-right: 0.25em;color: #696969;}#sk-container-id-2 label.sk-toggleable__label-arrow:hover:before {color: black;}#sk-container-id-2 div.sk-estimator:hover label.sk-toggleable__label-arrow:before {color: black;}#sk-container-id-2 div.sk-toggleable__content {max-height: 0;max-width: 0;overflow: hidden;text-align: left;background-color: #f0f8ff;}#sk-container-id-2 div.sk-toggleable__content pre {margin: 0.2em;color: black;border-radius: 0.25em;background-color: #f0f8ff;}#sk-container-id-2 input.sk-toggleable__control:checked~div.sk-toggleable__content {max-height: 200px;max-width: 100%;overflow: auto;}#sk-container-id-2 input.sk-toggleable__control:checked~label.sk-toggleable__label-arrow:before {content: \"▾\";}#sk-container-id-2 div.sk-estimator input.sk-toggleable__control:checked~label.sk-toggleable__label {background-color: #d4ebff;}#sk-container-id-2 div.sk-label input.sk-toggleable__control:checked~label.sk-toggleable__label {background-color: #d4ebff;}#sk-container-id-2 input.sk-hidden--visually {border: 0;clip: rect(1px 1px 1px 1px);clip: rect(1px, 1px, 1px, 1px);height: 1px;margin: -1px;overflow: hidden;padding: 0;position: absolute;width: 1px;}#sk-container-id-2 div.sk-estimator {font-family: monospace;background-color: #f0f8ff;border: 1px dotted black;border-radius: 0.25em;box-sizing: border-box;margin-bottom: 0.5em;}#sk-container-id-2 div.sk-estimator:hover {background-color: #d4ebff;}#sk-container-id-2 div.sk-parallel-item::after {content: \"\";width: 100%;border-bottom: 1px solid gray;flex-grow: 1;}#sk-container-id-2 div.sk-label:hover label.sk-toggleable__label {background-color: #d4ebff;}#sk-container-id-2 div.sk-serial::before {content: \"\";position: absolute;border-left: 1px solid gray;box-sizing: border-box;top: 0;bottom: 0;left: 50%;z-index: 0;}#sk-container-id-2 div.sk-serial {display: flex;flex-direction: column;align-items: center;background-color: white;padding-right: 0.2em;padding-left: 0.2em;position: relative;}#sk-container-id-2 div.sk-item {position: relative;z-index: 1;}#sk-container-id-2 div.sk-parallel {display: flex;align-items: stretch;justify-content: center;background-color: white;position: relative;}#sk-container-id-2 div.sk-item::before, #sk-container-id-2 div.sk-parallel-item::before {content: \"\";position: absolute;border-left: 1px solid gray;box-sizing: border-box;top: 0;bottom: 0;left: 50%;z-index: -1;}#sk-container-id-2 div.sk-parallel-item {display: flex;flex-direction: column;z-index: 1;position: relative;background-color: white;}#sk-container-id-2 div.sk-parallel-item:first-child::after {align-self: flex-end;width: 50%;}#sk-container-id-2 div.sk-parallel-item:last-child::after {align-self: flex-start;width: 50%;}#sk-container-id-2 div.sk-parallel-item:only-child::after {width: 0;}#sk-container-id-2 div.sk-dashed-wrapped {border: 1px dashed gray;margin: 0 0.4em 0.5em 0.4em;box-sizing: border-box;padding-bottom: 0.4em;background-color: white;}#sk-container-id-2 div.sk-label label {font-family: monospace;font-weight: bold;display: inline-block;line-height: 1.2em;}#sk-container-id-2 div.sk-label-container {text-align: center;}#sk-container-id-2 div.sk-container {/* jupyter's `normalize.less` sets `[hidden] { display: none; }` but bootstrap.min.css set `[hidden] { display: none !important; }` so we also need the `!important` here to be able to override the default hidden behavior on the sphinx rendered scikit-learn.org. See: https://github.com/scikit-learn/scikit-learn/issues/21755 */display: inline-block !important;position: relative;}#sk-container-id-2 div.sk-text-repr-fallback {display: none;}</style><div id=\"sk-container-id-2\" class=\"sk-top-container\"><div class=\"sk-text-repr-fallback\"><pre>GridSearchCV(cv=5, error_score=&#x27;raise&#x27;, estimator=LogisticRegression(),\n",
       "             param_grid={&#x27;C&#x27;: [0.001, 0.01, 0.1, 1, 10]})</pre><b>In a Jupyter environment, please rerun this cell to show the HTML representation or trust the notebook. <br />On GitHub, the HTML representation is unable to render, please try loading this page with nbviewer.org.</b></div><div class=\"sk-container\" hidden><div class=\"sk-item sk-dashed-wrapped\"><div class=\"sk-label-container\"><div class=\"sk-label sk-toggleable\"><input class=\"sk-toggleable__control sk-hidden--visually\" id=\"sk-estimator-id-4\" type=\"checkbox\" ><label for=\"sk-estimator-id-4\" class=\"sk-toggleable__label sk-toggleable__label-arrow\">GridSearchCV</label><div class=\"sk-toggleable__content\"><pre>GridSearchCV(cv=5, error_score=&#x27;raise&#x27;, estimator=LogisticRegression(),\n",
       "             param_grid={&#x27;C&#x27;: [0.001, 0.01, 0.1, 1, 10]})</pre></div></div></div><div class=\"sk-parallel\"><div class=\"sk-parallel-item\"><div class=\"sk-item\"><div class=\"sk-label-container\"><div class=\"sk-label sk-toggleable\"><input class=\"sk-toggleable__control sk-hidden--visually\" id=\"sk-estimator-id-5\" type=\"checkbox\" ><label for=\"sk-estimator-id-5\" class=\"sk-toggleable__label sk-toggleable__label-arrow\">estimator: LogisticRegression</label><div class=\"sk-toggleable__content\"><pre>LogisticRegression()</pre></div></div></div><div class=\"sk-serial\"><div class=\"sk-item\"><div class=\"sk-estimator sk-toggleable\"><input class=\"sk-toggleable__control sk-hidden--visually\" id=\"sk-estimator-id-6\" type=\"checkbox\" ><label for=\"sk-estimator-id-6\" class=\"sk-toggleable__label sk-toggleable__label-arrow\">LogisticRegression</label><div class=\"sk-toggleable__content\"><pre>LogisticRegression()</pre></div></div></div></div></div></div></div></div></div></div>"
      ],
      "text/plain": [
       "GridSearchCV(cv=5, error_score='raise', estimator=LogisticRegression(),\n",
       "             param_grid={'C': [0.001, 0.01, 0.1, 1, 10]})"
      ]
     },
     "execution_count": 29,
     "metadata": {},
     "output_type": "execute_result"
    }
   ],
   "source": [
    "\n",
    "# Feature scaling\n",
    "scaler = StandardScaler()\n",
    "scaled_features = scaler.fit_transform(x_train[['url_length', 'suspicious_words', 'special_characters', 'has_valid_ssl','domain_length']])\n",
    "x_train_scaled = pd.DataFrame(scaled_features, columns=['url_length', 'suspicious_words', 'special_characters', 'has_valid_ssl','domain_length'])\n",
    "\n",
    "y_train = y_train.values.ravel()  # Convert y_train to a 1D array\n",
    "\n",
    "params = {'C': [0.001, 0.01, 0.1, 1, 10]}\n",
    "log_reg = LogisticRegression(max_iter=100)\n",
    "grid_search = GridSearchCV(log_reg, params, cv=5, error_score='raise')\n",
    "grid_search.fit(x_train_scaled, y_train)\n"
   ]
  },
  {
   "cell_type": "code",
   "execution_count": 30,
   "id": "86ae75ac",
   "metadata": {},
   "outputs": [],
   "source": [
    "# Preprocess the test data\n",
    "x_test['url_length'] = x_test['url'].apply(url_length)\n",
    "x_test['suspicious_words'] = x_test['url'].apply(suspicious_words)\n",
    "x_test['special_characters'] = x_test['url'].apply(special_characters)\n",
    "x_test['has_valid_ssl'] = x_test['url'].apply(has_valid_ssl)\n",
    "x_test['domain_length'] = x_test['url'].apply(domain_length)\n"
   ]
  },
  {
   "cell_type": "code",
   "execution_count": 31,
   "id": "21e76cbf",
   "metadata": {},
   "outputs": [
    {
     "name": "stdout",
     "output_type": "stream",
     "text": [
      "Accuracy:  0.8947368421052632\n",
      "Precision:  1.0\n",
      "Recall:  0.6666666666666666\n",
      "F1 Score:  0.8\n",
      "Best hyperparameters: {'C': 1}\n"
     ]
    }
   ],
   "source": [
    "# Feature scaling for test data\n",
    "scaled_features = scaler.transform(x_test[['url_length', 'suspicious_words', 'special_characters', 'has_valid_ssl','domain_length']])\n",
    "x_test_scaled = pd.DataFrame(scaled_features, columns=['url_length', 'suspicious_words', 'special_characters', 'has_valid_ssl','domain_length'])\n",
    "\n",
    "y_pred = grid_search.predict(x_test_scaled[['url_length', 'suspicious_words', 'special_characters', 'has_valid_ssl','domain_length']])\n",
    "\n",
    "\n",
    "\n",
    "\n",
    "print('Accuracy: ', accuracy_score(y_test, y_pred))\n",
    "print('Precision: ', precision_score(y_test, y_pred))\n",
    "print('Recall: ', recall_score(y_test, y_pred))\n",
    "print('F1 Score: ', f1_score(y_test, y_pred))\n",
    "\n",
    "print(\"Best hyperparameters:\", grid_search.best_params_)\n"
   ]
  },
  {
   "cell_type": "code",
   "execution_count": 32,
   "id": "0bcb865e",
   "metadata": {},
   "outputs": [
    {
     "name": "stdout",
     "output_type": "stream",
     "text": [
      "Specificity:  1.0\n"
     ]
    }
   ],
   "source": [
    "from sklearn.metrics import confusion_matrix\n",
    "\n",
    "# After predicting on the test data\n",
    "tn, fp, fn, tp = confusion_matrix(y_test, y_pred).ravel()\n",
    "specificity = tn / (tn + fp)\n",
    "print('Specificity: ', specificity)"
   ]
  },
  {
   "cell_type": "code",
   "execution_count": 33,
   "id": "d9531f89",
   "metadata": {},
   "outputs": [],
   "source": [
    "# Preprocess the new data\n",
    "new_urls = ['https://www.facebok.com/', 'http://shadetreetechnology.com/V4/validation/a111aedc8ae390eabcfa130e041a10a4']\n",
    "new_data = pd.DataFrame({'URL': new_urls})\n",
    "new_data['url_length'] = new_data['URL'].apply(url_length)\n",
    "new_data['suspicious_words'] = new_data['URL'].apply(suspicious_words)\n",
    "new_data['special_characters'] = new_data['URL'].apply(special_characters)\n",
    "new_data['has_valid_ssl'] = new_data['URL'].apply(has_valid_ssl)\n",
    "new_data['domain_length'] = new_data['URL'].apply(domain_length)\n"
   ]
  },
  {
   "cell_type": "code",
   "execution_count": 34,
   "id": "164fd377",
   "metadata": {},
   "outputs": [
    {
     "name": "stdout",
     "output_type": "stream",
     "text": [
      "Accuracy for new data: 1.0\n",
      "                                                 URL  Prediction\n",
      "0                           https://www.facebok.com/  legitimate\n",
      "1  http://shadetreetechnology.com/V4/validation/a...    phishing\n"
     ]
    }
   ],
   "source": [
    "# Feature scaling for new data\n",
    "scaled_features = scaler.transform(new_data[['url_length', 'suspicious_words', 'special_characters', 'has_valid_ssl','domain_length']])\n",
    "new_data_scaled = pd.DataFrame(scaled_features, columns=['url_length', 'suspicious_words', 'special_characters', 'has_valid_ssl','domain_length'])\n",
    "\n",
    "predictions = grid_search.predict(new_data_scaled[['url_length', 'suspicious_words', 'special_characters', 'has_valid_ssl','domain_length']])\n",
    "prediction_labels = [\"phishing\" if p == 1 else \"legitimate\" for p in predictions]\n",
    "results = pd.DataFrame({'URL': new_data['URL'], 'Prediction': prediction_labels})\n",
    "actual_labels = [0, 1]  # Actual labels for the new URLs (phishing: 1, legitimate: 0)\n",
    "new_accuracy = accuracy_score(actual_labels, predictions)\n",
    "print('Accuracy for new data:', new_accuracy)\n",
    "print(results)"
   ]
  },
  {
   "cell_type": "code",
   "execution_count": 35,
   "id": "cd6b6842",
   "metadata": {},
   "outputs": [],
   "source": [
    "import pickle\n",
    "\n",
    "with open('phishing_detection_model.pkl', 'wb') as file:\n",
    "    pickle.dump(grid_search, file)"
   ]
  },
  {
   "cell_type": "code",
   "execution_count": null,
   "id": "7e449f71",
   "metadata": {},
   "outputs": [],
   "source": []
  }
 ],
 "metadata": {
  "kernelspec": {
   "display_name": "Python 3 (ipykernel)",
   "language": "python",
   "name": "python3"
  },
  "language_info": {
   "codemirror_mode": {
    "name": "ipython",
    "version": 3
   },
   "file_extension": ".py",
   "mimetype": "text/x-python",
   "name": "python",
   "nbconvert_exporter": "python",
   "pygments_lexer": "ipython3",
   "version": "3.10.9"
  }
 },
 "nbformat": 4,
 "nbformat_minor": 5
}
